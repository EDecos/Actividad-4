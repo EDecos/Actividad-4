{
  "nbformat": 4,
  "nbformat_minor": 0,
  "metadata": {
    "colab": {
      "provenance": [],
      "authorship_tag": "ABX9TyOXwoSEt9OzHm8Z0idBoPKu",
      "include_colab_link": true
    },
    "kernelspec": {
      "name": "python3",
      "display_name": "Python 3"
    },
    "language_info": {
      "name": "python"
    }
  },
  "cells": [
    {
      "cell_type": "markdown",
      "metadata": {
        "id": "view-in-github",
        "colab_type": "text"
      },
      "source": [
        "<a href=\"https://colab.research.google.com/github/A01736798/Extraccion-de-caracteristicas/blob/main/Extraccion_de_caracteristicas.ipynb\" target=\"_parent\"><img src=\"https://colab.research.google.com/assets/colab-badge.svg\" alt=\"Open In Colab\"/></a>"
      ]
    },
    {
      "cell_type": "code",
      "source": [
        "%pip install funpymodeling"
      ],
      "metadata": {
        "id": "5SVqBLeiVVAM"
      },
      "execution_count": null,
      "outputs": []
    },
    {
      "cell_type": "code",
      "source": [
        "!pip install matplotlib"
      ],
      "metadata": {
        "id": "Dy6MmFDGq3oZ"
      },
      "execution_count": null,
      "outputs": []
    },
    {
      "cell_type": "code",
      "source": [
        "%matplotlib inline\n",
        "import matplotlib.pyplot as plt"
      ],
      "metadata": {
        "id": "jgBRAssTrRTJ"
      },
      "execution_count": 4,
      "outputs": []
    },
    {
      "cell_type": "code",
      "execution_count": 7,
      "metadata": {
        "id": "paZQaRPhT6Xh"
      },
      "outputs": [],
      "source": [
        "import pandas as pd\n",
        "import numpy as np\n",
        "from funpymodeling.exploratory import freq_tbl"
      ]
    },
    {
      "cell_type": "code",
      "source": [
        "from google.colab import files\n",
        "files.upload()"
      ],
      "metadata": {
        "id": "w-R1U8YbUCxZ"
      },
      "execution_count": null,
      "outputs": []
    },
    {
      "cell_type": "code",
      "source": [
        "df= pd.read_csv(\"data3.csv\")"
      ],
      "metadata": {
        "id": "ZQUHQj_SUJ8c"
      },
      "execution_count": 9,
      "outputs": []
    },
    {
      "cell_type": "code",
      "source": [
        "freq_tbl(df)"
      ],
      "metadata": {
        "id": "MyEJeHFcWp91"
      },
      "execution_count": null,
      "outputs": []
    },
    {
      "cell_type": "code",
      "source": [
        "tb1= freq_tbl(df[\"42_willingness_share_inventory_data_suppliers\"])\n",
        "tb1"
      ],
      "metadata": {
        "id": "G555xmqJZk9Y"
      },
      "execution_count": null,
      "outputs": []
    },
    {
      "cell_type": "code",
      "source": [
        "filtro1= tb1[tb1[\"frequency\"]>1]\n",
        "filtro1"
      ],
      "metadata": {
        "id": "76OornpYaIuv"
      },
      "execution_count": null,
      "outputs": []
    },
    {
      "cell_type": "code",
      "source": [
        "Filtro_index= filtro1.set_index('42_willingness_share_inventory_data_suppliers')\n",
        "Filtro_index"
      ],
      "metadata": {
        "id": "exjcaTYSaqr3"
      },
      "execution_count": null,
      "outputs": []
    },
    {
      "cell_type": "code",
      "source": [
        "Filtro_index.plot(kind = 'bar', width=1, figsize=(10,4))\n",
        "plt.title('Manejo de Stockout')\n",
        "plt.xlabel('Acciones')\n",
        "plt.ylabel('Frecuencia')"
      ],
      "metadata": {
        "id": "wtVj66FknJ7E"
      },
      "execution_count": null,
      "outputs": []
    },
    {
      "cell_type": "code",
      "source": [
        "Filtro_index.plot(\"frequency\", \"cumulative_perc\", kind=\"scatter\")"
      ],
      "metadata": {
        "id": "cmGV5oIRsHEy"
      },
      "execution_count": null,
      "outputs": []
    },
    {
      "cell_type": "code",
      "source": [
        "Filtro_index.plot(kind='area', figsize=(10,4),alpha = 0.5)"
      ],
      "metadata": {
        "id": "hvtgZNdjsPRi"
      },
      "execution_count": null,
      "outputs": []
    },
    {
      "cell_type": "code",
      "source": [
        "Filtro_index[\"frequency\"].plot(kind='pie', figsize=(10,5), shadow=False, autopct=\"%0.1f %%\")"
      ],
      "metadata": {
        "id": "EbEJ5npSsPqY"
      },
      "execution_count": null,
      "outputs": []
    }
  ]
}